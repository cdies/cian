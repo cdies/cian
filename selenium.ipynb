{
 "cells": [
  {
   "cell_type": "markdown",
   "metadata": {},
   "source": [
    "# Парсинг фотографий с сайта cian.ru с помощью Selenium"
   ]
  },
  {
   "cell_type": "markdown",
   "metadata": {},
   "source": [
    "Здравствуйте дорогие хабровчане, в этом небольшом примере я хочу показать как можно распарсить страницу, данные на которую подгружаются с помощью javascript виджетов. Более того, даже если страницу в этом примере просто сохранить, то всё равно не получится спарсить из неё все нужные фотографии из-за этих виджетов. В данном случае я использую для примера сайт [cian.ru](https://www.cian.ru/), у которого есть свой [api](https://public-api.cian.ru/), который я использовать не буду, вместо этого я буду использовать Selenium. Я не работаю в cian.ru, просто использую этот сайт для примера. Код в парсере простой и расчитан на начинающих."
   ]
  },
  {
   "cell_type": "markdown",
   "metadata": {},
   "source": [
    "Небольшое вступление - когда на досуге я рассматривал примеры ремонтов в cian.ru, я подумал, что не плохо было бы сохранить понравившиеся мне фотографии, но вручную сохранять их было бы долго, к тому же это не наш метод, так я и решил написать этот парсер."
   ]
  },
  {
   "cell_type": "markdown",
   "metadata": {},
   "source": [
    "Парсер написан на языке python3 из дистрибутива [Anaconda](https://anaconda.org/conda-forge/python-chromedriver-binary), [Selenium](https://anaconda.org/conda-forge/selenium) и [chromedriver binary](https://anaconda.org/conda-forge/python-chromedriver-binary) я установил отдельно именно из этих ссылок. (Ну и конечно же в системе должен быть установлен барузер [Google Chrome](https://www.google.com/intl/ru/chrome/))"
   ]
  },
  {
   "cell_type": "markdown",
   "metadata": {},
   "source": [
    "Ниже представлен полный код парсера, далее я разберу основные моменты отдельно."
   ]
  },
  {
   "cell_type": "code",
   "execution_count": null,
   "metadata": {},
   "outputs": [],
   "source": [
    "from selenium import webdriver\n",
    "from selenium.webdriver.chrome.options import Options\n",
    "from selenium.common.exceptions import NoSuchElementException\n",
    "import chromedriver_binary \n",
    "import urllib\n",
    "import time\n",
    "\n",
    "print('start...')\n",
    "\n",
    "site = \"https://www.cian.ru/sale/flat/222059642/\"\n",
    "\n",
    "chrome_options = Options()\n",
    "chrome_options.add_argument(\"--headless\")\n",
    "\n",
    "driver = webdriver.Chrome(options=chrome_options)\n",
    "#driver = webdriver.Chrome()\n",
    "driver.get(site)\n",
    "\n",
    "i = 0\n",
    "\n",
    "while True:   \n",
    "    try:\n",
    "        url = driver.find_element_by_xpath(\"//div[contains(@class, 'fotorama__active')]/img\").get_attribute('src')\n",
    "    except NoSuchElementException:\n",
    "        break        \n",
    "\n",
    "    i += 1\n",
    "    print(i, url)\n",
    "            \n",
    "    driver.find_element_by_xpath(\"//div[@class='fotorama__arr fotorama__arr--next']\").click()\n",
    "    \n",
    "    name = url.split('/')[-1]\n",
    "    urllib.request.urlretrieve(url, name)\n",
    "    \n",
    "    time.sleep(2)\n",
    "\n",
    "print('done.')"
   ]
  },
  {
   "cell_type": "markdown",
   "metadata": {},
   "source": [
    "Первым делом я загрузил страницу https://www.cian.ru/sale/flat/222059642/ с понравившимися мне фотографиями. Для этого я создал объект `driver` браузера и передал ему ссылку через метод `get`. Обратите внимание, что я использую [Headless Chrome](https://habr.com/ru/company/oleg-bunin/blog/421137/), т.е. передаю в `webdriver.Chrome()` параметры опций браузера с аргументом `--headless`, благодаря этому браузер не будет реально отрисовывать содержимое страницы, если вы захотите посмотреть на отрисовку, то не передавайте аргументы `chrome_options` и тогода вы сможете увидеть, что происходит на самом деле."
   ]
  },
  {
   "cell_type": "code",
   "execution_count": null,
   "metadata": {},
   "outputs": [],
   "source": [
    "site = \"https://www.cian.ru/sale/flat/222059642/\"\n",
    "\n",
    "chrome_options = Options()\n",
    "chrome_options.add_argument(\"--headless\")\n",
    "\n",
    "driver = webdriver.Chrome(options=chrome_options)\n",
    "#driver = webdriver.Chrome()\n",
    "driver.get(site)"
   ]
  },
  {
   "cell_type": "markdown",
   "metadata": {},
   "source": [
    "Далее в цикле я начал парсить фотографии, логика парсера работет также, как если бы я сам скачивал их вручную, т.е. сохраняю текущую фотографию и нажимаю на стрелку \"next\"."
   ]
  },
  {
   "attachments": {},
   "cell_type": "markdown",
   "metadata": {},
   "source": [
    "![](site.png)"
   ]
  },
  {
   "cell_type": "markdown",
   "metadata": {},
   "source": [
    "Код ниже сохраняет в переменную `url` ссылку на фотографию, блок `try/except` отслеживает ошибку `NoSuchElementException`, эта ошибка возникает, когда все фотографии скачаны и Selenium больше не находит ссылку."
   ]
  },
  {
   "cell_type": "code",
   "execution_count": null,
   "metadata": {},
   "outputs": [],
   "source": [
    "    try:\n",
    "        url = driver.find_element_by_xpath(\"//div[contains(@class, 'fotorama__active')]/img\").get_attribute('src')\n",
    "    except NoSuchElementException:\n",
    "        break       "
   ]
  },
  {
   "cell_type": "markdown",
   "metadata": {},
   "source": [
    "Слудующий блок кода буквально кликает по стрелке для перехода к следующей фотографии."
   ]
  },
  {
   "cell_type": "code",
   "execution_count": null,
   "metadata": {},
   "outputs": [],
   "source": [
    "    driver.find_element_by_xpath(\"//div[@class='fotorama__arr fotorama__arr--next']\").click()"
   ]
  },
  {
   "cell_type": "markdown",
   "metadata": {},
   "source": [
    "Далее сохраняем фотографию по ссылке на диск через библиотеку `urllib`."
   ]
  },
  {
   "cell_type": "code",
   "execution_count": null,
   "metadata": {},
   "outputs": [],
   "source": [
    "    name = url.split('/')[-1]\n",
    "    urllib.request.urlretrieve(url, name)"
   ]
  },
  {
   "cell_type": "markdown",
   "metadata": {},
   "source": [
    "И в конце простой но важный код, задержка позволяет полностью подгрузиться странтице после клика по стрелке. (здесь можно сделать код почище организовав задержку средствами Selenium)"
   ]
  },
  {
   "cell_type": "code",
   "execution_count": null,
   "metadata": {},
   "outputs": [],
   "source": [
    "    time.sleep(2)"
   ]
  },
  {
   "cell_type": "markdown",
   "metadata": {},
   "source": [
    "Вот такой пример парсера фоторграфий на Selenium, не утверждаю, что это лучший подход, если кто-то знает как сделать лучше напишите свои идеи в комментах."
   ]
  }
 ],
 "metadata": {
  "kernelspec": {
   "display_name": "Python 3",
   "language": "python",
   "name": "python3"
  },
  "language_info": {
   "codemirror_mode": {
    "name": "ipython",
    "version": 3
   },
   "file_extension": ".py",
   "mimetype": "text/x-python",
   "name": "python",
   "nbconvert_exporter": "python",
   "pygments_lexer": "ipython3",
   "version": "3.8.2"
  }
 },
 "nbformat": 4,
 "nbformat_minor": 4
}
